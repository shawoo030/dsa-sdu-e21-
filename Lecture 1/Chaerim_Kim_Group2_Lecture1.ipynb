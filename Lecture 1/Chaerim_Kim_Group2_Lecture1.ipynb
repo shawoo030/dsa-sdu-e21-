{
 "cells": [
  {
   "cell_type": "markdown",
   "source": [
    "<center>\n",
    "    \n",
    "# 5. Exercises"
   ],
   "metadata": {
    "slideshow": {
     "slide_type": "slide"
    }
   }
  },
  {
   "cell_type": "markdown",
   "source": [
    "**Ex1.** \n",
    "\n",
    "Write a Python class, Flower, that has three instance variables of type `str`, `int`, and ``float``, that respectively represent the name of the flower, its number of petals, and its price. Your class must include a constructor method that initializes each variable to an appropriate value, and your class should include methods for setting the value of each type, and retrieving the value of each type."
   ],
   "metadata": {
    "slideshow": {
     "slide_type": "-"
    }
   }
  },
  {
   "cell_type": "code",
   "execution_count": 1,
   "source": [
    "class Flower:\n",
    "    \n",
    "    \"\"\"1. initializing each variable \"\"\"\n",
    "    \n",
    "    def __init__(self, name:str, petal_num:int, price:float):\n",
    "        \n",
    "        self._name = name\n",
    "        self._petal_num = petal_num\n",
    "        self._price = price\n",
    "       \n",
    "        pass\n",
    "    \n",
    "    \n",
    "    \n",
    "    \"\"\"2. retrieving the value \"\"\"\n",
    "    \n",
    "    def get_name(self) -> str:\n",
    "        \"\"\"Return the name of the flower.\"\"\"\n",
    "        return self._name\n",
    "    \n",
    "    def get_petal_num(self) -> int:\n",
    "        \"\"\"Return the number of petals of the flower.\"\"\"\n",
    "        return self._petal_num\n",
    "    \n",
    "    def get_price(self) -> float:\n",
    "        \"\"\"Return the price of the flower.\"\"\"\n",
    "        return self._price\n",
    "    \n",
    "\n",
    "    \n",
    "    \"\"\"3. setting the value\"\"\"\n",
    "    \n",
    "    def set_name(self,new_name : str) -> str:\n",
    "        self._name = new_name\n",
    "        return new_name\n",
    "    \n",
    "    def set_petal_num(self,new_Petalnum : int) -> int:\n",
    "        self._petal_num = new_Petalnum\n",
    "        return new_Petalnum\n",
    "    \n",
    "    def set_price(self,new_price : float) -> float:\n",
    "        self._price = new_price\n",
    "        return new_price\n",
    "    \n",
    "    \n",
    "    \n",
    "    "
   ],
   "outputs": [],
   "metadata": {}
  },
  {
   "cell_type": "code",
   "execution_count": 2,
   "source": [
    "my_flower = Flower('Rose',5, 1000.33)"
   ],
   "outputs": [],
   "metadata": {}
  },
  {
   "cell_type": "code",
   "execution_count": 3,
   "source": [
    "my_flower.get_price()"
   ],
   "outputs": [
    {
     "output_type": "execute_result",
     "data": {
      "text/plain": [
       "1000.33"
      ]
     },
     "metadata": {},
     "execution_count": 3
    }
   ],
   "metadata": {}
  },
  {
   "cell_type": "code",
   "execution_count": 4,
   "source": [
    "my_flower.set_name('tulip')"
   ],
   "outputs": [
    {
     "output_type": "execute_result",
     "data": {
      "text/plain": [
       "'tulip'"
      ]
     },
     "metadata": {},
     "execution_count": 4
    }
   ],
   "metadata": {}
  },
  {
   "cell_type": "code",
   "execution_count": 5,
   "source": [
    "my_flower.get_name()"
   ],
   "outputs": [
    {
     "output_type": "execute_result",
     "data": {
      "text/plain": [
       "'tulip'"
      ]
     },
     "metadata": {},
     "execution_count": 5
    }
   ],
   "metadata": {}
  },
  {
   "cell_type": "markdown",
   "source": [
    "**Ex2&3.**\n",
    "\n",
    "2. Revise the ``charge`` and ``make_payment`` methods of the ``CreditCard`` class to ensure that the caller sends a number as a parameter.\n",
    "\n",
    "\n",
    "3. If the parameter to the ``make_payment`` method of the ``CreditCard`` class were a negative number, that would have the effect of *raising* the balance on the account. Revise the implementation so that it raises a ``ValueError`` if a negative value is sent.\n"
   ],
   "metadata": {
    "slideshow": {
     "slide_type": "-"
    }
   }
  },
  {
   "cell_type": "code",
   "execution_count": 6,
   "source": [
    "class CreditCard:\n",
    "    \"\"\"A consumer credit card.\"\"\"\n",
    "\n",
    "    def __init__(self, customer, bank, acnt, limit):\n",
    "        \"\"\"Create a new credit card instance.\n",
    "\n",
    "        The initial balance is zero.\n",
    "\n",
    "        customer     the name of the customer (e.g., 'John Bowman')\n",
    "        bank         the name of the bank (e.g., 'California Savings')\n",
    "        acnt         the acount identifier (e.g., '5391 0375 9387 5309')\n",
    "        limit        credit limit (measured in dollars)\n",
    "        \"\"\"\n",
    "        self._customer = customer\n",
    "        self._bank = bank\n",
    "        self._account = acnt\n",
    "        self._limit = limit\n",
    "        self._balance = 0\n",
    "\n",
    "    def get_customer(self):\n",
    "        \"\"\"Return name of the customer.\"\"\"\n",
    "        return self._customer\n",
    "\n",
    "    def get_bank(self):\n",
    "        \"\"\"Return the bank's name.\"\"\"\n",
    "        return self._bank\n",
    "\n",
    "    def get_account(self):\n",
    "        \"\"\"Return the card identifying number (typically stored as a string).\"\"\"\n",
    "        return self._account\n",
    "\n",
    "    def get_limit(self):\n",
    "        \"\"\"Return current credit limit.\"\"\"\n",
    "        return self._limit   \n",
    "    \n",
    "    \n",
    "    \n",
    "############ From this, revising two methods #########\n",
    "    \n",
    "    \n",
    "    \n",
    "    def charge(self, price):\n",
    "        \"\"\"Charge given price to the card, assuming sufficient credit limit.\n",
    "    \n",
    "        Return True if charge was processed; False if charge was denied.\n",
    "        \"\"\"\n",
    "        if isinstance(price, (int, float)):\n",
    "        \n",
    "            if price + self._balance > self._limit: # if charge would exceed limit,\n",
    "                return False # cannot accept charge\n",
    "            else:\n",
    "                self._balance += price\n",
    "            return True\n",
    "        else:\n",
    "            raise TypeError(\"please enter a number\")\n",
    "\n",
    "    def make_payment(self, amount):\n",
    "        \"\"\"Process customer payment that reduces balance.\"\"\"\n",
    "        if isinstance(amount, (int, float)):\n",
    "            \n",
    "            if amount > 0:\n",
    "                self._balance -= amount\n",
    "            else:\n",
    "                raise ValueError(\"please input a positive number\")\n",
    "        else:\n",
    "            raise TypeError(\"please enter a number\")"
   ],
   "outputs": [],
   "metadata": {}
  },
  {
   "cell_type": "code",
   "execution_count": 7,
   "source": [
    "my_card = CreditCard('k','Shin','0000',3000)"
   ],
   "outputs": [],
   "metadata": {}
  },
  {
   "cell_type": "code",
   "execution_count": 8,
   "source": [
    "my_card.charge('3')"
   ],
   "outputs": [
    {
     "output_type": "stream",
     "name": "stdout",
     "text": [
      "please enter a number\n"
     ]
    }
   ],
   "metadata": {}
  },
  {
   "cell_type": "code",
   "execution_count": 9,
   "source": [
    "my_card.make_payment('5')"
   ],
   "outputs": [
    {
     "output_type": "stream",
     "name": "stdout",
     "text": [
      "please input a number\n"
     ]
    }
   ],
   "metadata": {}
  },
  {
   "cell_type": "code",
   "execution_count": 10,
   "source": [
    "my_card.make_payment(-399)"
   ],
   "outputs": [
    {
     "output_type": "error",
     "ename": "ValueError",
     "evalue": "please input a positive number",
     "traceback": [
      "\u001b[0;31m---------------------------------------------------------------------------\u001b[0m",
      "\u001b[0;31mValueError\u001b[0m                                Traceback (most recent call last)",
      "\u001b[0;32m<ipython-input-10-a7fc837b51b6>\u001b[0m in \u001b[0;36m<module>\u001b[0;34m\u001b[0m\n\u001b[0;32m----> 1\u001b[0;31m \u001b[0mmy_card\u001b[0m\u001b[0;34m.\u001b[0m\u001b[0mmake_payment\u001b[0m\u001b[0;34m(\u001b[0m\u001b[0;34m-\u001b[0m\u001b[0;36m399\u001b[0m\u001b[0;34m)\u001b[0m\u001b[0;34m\u001b[0m\u001b[0;34m\u001b[0m\u001b[0m\n\u001b[0m",
      "\u001b[0;32m<ipython-input-6-1c11e143209d>\u001b[0m in \u001b[0;36mmake_payment\u001b[0;34m(self, amount)\u001b[0m\n\u001b[1;32m     62\u001b[0m                 \u001b[0mself\u001b[0m\u001b[0;34m.\u001b[0m\u001b[0m_balance\u001b[0m \u001b[0;34m-=\u001b[0m \u001b[0mamount\u001b[0m\u001b[0;34m\u001b[0m\u001b[0;34m\u001b[0m\u001b[0m\n\u001b[1;32m     63\u001b[0m             \u001b[0;32melse\u001b[0m\u001b[0;34m:\u001b[0m\u001b[0;34m\u001b[0m\u001b[0;34m\u001b[0m\u001b[0m\n\u001b[0;32m---> 64\u001b[0;31m                 \u001b[0;32mraise\u001b[0m \u001b[0mValueError\u001b[0m\u001b[0;34m(\u001b[0m\u001b[0;34m\"please input a positive number\"\u001b[0m\u001b[0;34m)\u001b[0m\u001b[0;34m\u001b[0m\u001b[0;34m\u001b[0m\u001b[0m\n\u001b[0m\u001b[1;32m     65\u001b[0m         \u001b[0;32melse\u001b[0m\u001b[0;34m:\u001b[0m\u001b[0;34m\u001b[0m\u001b[0;34m\u001b[0m\u001b[0m\n\u001b[1;32m     66\u001b[0m             \u001b[0mprint\u001b[0m\u001b[0;34m(\u001b[0m\u001b[0;34m\"please input a number\"\u001b[0m\u001b[0;34m)\u001b[0m\u001b[0;34m\u001b[0m\u001b[0;34m\u001b[0m\u001b[0m\n",
      "\u001b[0;31mValueError\u001b[0m: please input a positive number"
     ]
    }
   ],
   "metadata": {}
  },
  {
   "cell_type": "code",
   "execution_count": null,
   "source": [
    "my_card.make_payment(399)"
   ],
   "outputs": [],
   "metadata": {}
  }
 ],
 "metadata": {
  "kernelspec": {
   "display_name": "Python 3",
   "language": "python",
   "name": "python3"
  },
  "language_info": {
   "codemirror_mode": {
    "name": "ipython",
    "version": 3
   },
   "file_extension": ".py",
   "mimetype": "text/x-python",
   "name": "python",
   "nbconvert_exporter": "python",
   "pygments_lexer": "ipython3",
   "version": "3.8.5"
  }
 },
 "nbformat": 4,
 "nbformat_minor": 5
}