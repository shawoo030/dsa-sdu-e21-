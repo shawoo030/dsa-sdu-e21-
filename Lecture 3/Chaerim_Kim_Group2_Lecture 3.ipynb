{
 "cells": [
  {
   "cell_type": "markdown",
   "id": "marked-federation",
   "metadata": {},
   "source": [
    "## Excercise 1"
   ]
  },
  {
   "cell_type": "markdown",
   "id": "complex-alpha",
   "metadata": {},
   "source": [
    "i upload a capture seperately"
   ]
  },
  {
   "cell_type": "markdown",
   "id": "primary-democrat",
   "metadata": {},
   "source": [
    "# Exercise 2 & 3"
   ]
  },
  {
   "cell_type": "markdown",
   "id": "classified-airfare",
   "metadata": {},
   "source": [
    "2."
   ]
  },
  {
   "cell_type": "code",
   "execution_count": 1,
   "id": "monetary-twins",
   "metadata": {},
   "outputs": [],
   "source": [
    "def stringReverse(s: str) -> str:\n",
    "    \"\"\"Reverses a string, recursively\n",
    "\n",
    "    Args:\n",
    "        s (str): The string to reverse\n",
    "\n",
    "    Returns:\n",
    "        str: The reversed string\n",
    "    \"\"\"\n",
    "    if len(s) == 0:\n",
    "        return \"\"\n",
    "    else:\n",
    "        return stringReverse(s[1:]) + s[0]"
   ]
  },
  {
   "cell_type": "code",
   "execution_count": 2,
   "id": "built-oregon",
   "metadata": {},
   "outputs": [
    {
     "name": "stdout",
     "output_type": "stream",
     "text": [
      "snap&stop\n"
     ]
    }
   ],
   "source": [
    "testString = \"pots&pans\"\n",
    "print(stringReverse(testString))"
   ]
  },
  {
   "cell_type": "markdown",
   "id": "adapted-removal",
   "metadata": {},
   "source": [
    "3. Give a recursive algorithm to compute the product of two positive integers, m and n, using only addition and subtraction."
   ]
  },
  {
   "cell_type": "code",
   "execution_count": 23,
   "id": "spoken-rebound",
   "metadata": {},
   "outputs": [
    {
     "name": "stdout",
     "output_type": "stream",
     "text": [
      "10\n"
     ]
    }
   ],
   "source": [
    "def productRecursive(m,n):\n",
    "    \"\"\"Recursively computes the product of two numbers using only addition and substraction\n",
    "\n",
    "    Args:\n",
    "        m (float): The left member of the multiplication\n",
    "        n (float): The right member of the multiplication\n",
    "\n",
    "    Returns:\n",
    "        float: The result of the multiplication\n",
    "    \"\"\"\n",
    "    if n == 1:\n",
    "        return m\n",
    "    \n",
    "    elif n == 0:\n",
    "        return 0\n",
    "    \n",
    "    else:\n",
    "        return productRecursive(m, n - 1) + m\n",
    "print(productRecursive(5,2))"
   ]
  },
  {
   "cell_type": "code",
   "execution_count": null,
   "id": "original-paradise",
   "metadata": {},
   "outputs": [],
   "source": []
  }
 ],
 "metadata": {
  "kernelspec": {
   "display_name": "Python 3",
   "language": "python",
   "name": "python3"
  },
  "language_info": {
   "codemirror_mode": {
    "name": "ipython",
    "version": 3
   },
   "file_extension": ".py",
   "mimetype": "text/x-python",
   "name": "python",
   "nbconvert_exporter": "python",
   "pygments_lexer": "ipython3",
   "version": "3.8.5"
  }
 },
 "nbformat": 4,
 "nbformat_minor": 5
}
