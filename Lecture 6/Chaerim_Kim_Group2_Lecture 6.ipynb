{
 "cells": [
  {
   "cell_type": "markdown",
   "id": "exempt-think",
   "metadata": {},
   "source": [
    "**Ex.1**\n",
    "\n",
    "Give a Python implementation for finding the second-to-last node in a singly linked list in which the last node is indicated by a ``next`` reference of ``None``."
   ]
  },
  {
   "cell_type": "code",
   "execution_count": 46,
   "id": "satisfied-paste",
   "metadata": {},
   "outputs": [],
   "source": [
    "class LinkedStack:\n",
    "    \"\"\"LIFO Stack implementation using a singly linked list for storage.\"\"\"\n",
    "\n",
    "    #-------------------------- nested Node class --------------------------\n",
    "    class Node:\n",
    "        \"\"\"Lightweight, nonpublic class for storing a singly linked node.\"\"\"\n",
    "        __slots__ = '_element' , '_next' # streamline memory usage\n",
    "\n",
    "        def __init__(self, element, next): # initialize node’s fields\n",
    "            self._element = element # reference to user’s element\n",
    "            self._next = next # reference to next node\n",
    "\n",
    "    #------------------------------- stack methods -------------------------------\n",
    "    def __init__(self):\n",
    "        \"\"\"Create an empty stack.\"\"\"\n",
    "        self._head = None # reference to the head node\n",
    "        self._size = 0 # number of stack elements\n",
    "\n",
    "    def __len__(self):\n",
    "        \"\"\"Return the number of elements in the stack.\"\"\"\n",
    "        return self._size\n",
    "\n",
    "    def __str__(self):\n",
    "        n = self._head\n",
    "        rep = \"\"\n",
    "        while n != None:\n",
    "            rep += f\"({n._element:^3})-> \"\n",
    "            n = n._next\n",
    "        rep += f\"{None}\"\n",
    "        return rep\n",
    "    \n",
    "    \n",
    "    def is_empty(self):\n",
    "        \"\"\"Return True if the stack is empty.\"\"\"\n",
    "        return self._size == 0\n",
    "\n",
    "    def push(self, e):\n",
    "        \"\"\"Add element e to the top of the stack.\"\"\"\n",
    "        self._head = self.Node(e, self._head) # create and link a new node\n",
    "        self._size += 1\n",
    "\n",
    "    def top(self):\n",
    "        \"\"\"Return (but do not remove) the element at the top of the stack.\n",
    "\n",
    "           Raise Empty exception if the stack is empty.\n",
    "        \"\"\"\n",
    "        if self.is_empty():\n",
    "            raise Empty('Stack is empty')\n",
    "        return self._head._element # top of stack is at head of list\n",
    "    \n",
    "    def topNode(self):\n",
    "        \"\"\"Return (but do not remove) the node at the top of the stack.\n",
    "\n",
    "        Raise Empty exception if the stack is empty.\n",
    "        \"\"\"\n",
    "        if self.is_empty():\n",
    "            raise Empty(\"Stack is empty\")\n",
    "        return self._head  # top of stack is at head of list\n",
    "    \n",
    "    def pop(self):\n",
    "        \"\"\"Remove and return the element from the top of the stack (i.e., LIFO).\n",
    "\n",
    "           Raise Empty exception if the stack is empty.\n",
    "        \"\"\"\n",
    "        if self.is_empty():\n",
    "            raise Empty('Stack is empty')\n",
    "        answer = self._head._element\n",
    "        self._head = self._head._next # bypass the former top node\n",
    "        self._size -= 1\n",
    "        return answer\n",
    "    \n",
    "    #--------------my Code -------------------------------\n",
    "    def second_toLast(self):\n",
    "        if self._size < 2:\n",
    "            raise Empty('too short!')\n",
    "        else:\n",
    "            elementpos = self._head._next\n",
    "            result = []\n",
    "            while elementpos:\n",
    "                result.append(elementpos._element)\n",
    "                elementpos = elementpos._next\n",
    "        return f\"from second to the last element is {result}\"\n",
    "    \n",
    "    def secondToLastWhile(self) -> Node:\n",
    "        \"\"\"Returns the second-to-last Node using a while loop. Much more efficient than the recursive way\n",
    "\n",
    "        Raises:\n",
    "            KeyError: If the linked list is too short to have a second-to-last, raise an error\n",
    "\n",
    "        Returns:\n",
    "            _Node: The second-to-last node\n",
    "        \"\"\"\n",
    "        if len(self) < 2:\n",
    "            raise KeyError(\"Linked list too short !\")\n",
    "        n = self._head\n",
    "        while n._next._next != None:\n",
    "            n = n._next\n",
    "        return n\n",
    "    \n",
    "    def secondToLastRecursive(self, n: Node = None) -> Node:\n",
    "        \"\"\"Returns the second-to-last Node in a recursive way\n",
    "\n",
    "        Args:\n",
    "            n (_Node, optional): The starting node. Defaults to None.\n",
    "\n",
    "        Raises:\n",
    "            KeyError: If the linked list is too short to have a second-to-last, raise an error\n",
    "\n",
    "        Returns:\n",
    "            _Node: The second-to-last node\n",
    "        \"\"\"\n",
    "        if n == None:\n",
    "            n = self._head\n",
    "        if n._next == None:\n",
    "            raise KeyError(\"Linked list too short !\")\n",
    "        if n._next._next == None:\n",
    "            return n\n",
    "        else:\n",
    "            return self.secondToLastRecursive(n._next)"
   ]
  },
  {
   "cell_type": "code",
   "execution_count": 47,
   "id": "oriental-devices",
   "metadata": {},
   "outputs": [
    {
     "name": "stdout",
     "output_type": "stream",
     "text": [
      "(10 )-> ( 9 )-> ( 5 )-> ( 3 )-> None\n"
     ]
    }
   ],
   "source": [
    "myList = LinkedStack()\n",
    "myList.push(\"3\")\n",
    "myList.push(\"5\")\n",
    "myList.push(\"9\")\n",
    "myList.push(\"10\")\n",
    "print(myList)"
   ]
  },
  {
   "cell_type": "code",
   "execution_count": 48,
   "id": "sublime-bookmark",
   "metadata": {},
   "outputs": [
    {
     "data": {
      "text/plain": [
       "\"from second to the last element is ['9', '5', '3']\""
      ]
     },
     "execution_count": 48,
     "metadata": {},
     "output_type": "execute_result"
    }
   ],
   "source": [
    "myList.second_toLast()"
   ]
  },
  {
   "cell_type": "code",
   "execution_count": 49,
   "id": "expensive-christopher",
   "metadata": {},
   "outputs": [
    {
     "name": "stdout",
     "output_type": "stream",
     "text": [
      "5\n"
     ]
    }
   ],
   "source": [
    "print(myList.secondToLastWhile()._element)"
   ]
  },
  {
   "cell_type": "code",
   "execution_count": 21,
   "id": "surgical-worthy",
   "metadata": {},
   "outputs": [
    {
     "name": "stdout",
     "output_type": "stream",
     "text": [
      "5\n"
     ]
    }
   ],
   "source": [
    "print(myList.secondToLastRecursive()._element)"
   ]
  },
  {
   "cell_type": "markdown",
   "id": "warming-excuse",
   "metadata": {},
   "source": [
    "**Ex.2**\n",
    "\n",
    "for concatenating two singly linked lists *L* and *M*, given only references to the first node of each list, into a single list *L'* that contains all the nodes of *L* followed by all the nodes of *M*."
   ]
  },
  {
   "cell_type": "code",
   "execution_count": 4,
   "id": "velvet-midwest",
   "metadata": {},
   "outputs": [],
   "source": [
    "#--------------my Code exercise 2----------------------\n",
    "def concatenate(Lnode,Mnode):\n",
    "    '''Lnode (_Node): The first node of the first list\n",
    "    Mnode (_Node): The first node of the second list'''\n",
    "    \n",
    "    Llist = LinkedStack()\n",
    "    Mlist = LinkedStack()\n",
    "    \n",
    "    while Lnode:\n",
    "        Llist.push(Lnode._element)\n",
    "        Lnode = Lnode._next\n",
    "    \n",
    "    while Mnode:\n",
    "        Llist.push(Mnode._element)\n",
    "        Mnode = Mnode._next\n",
    "        \n",
    "    nd = Llist.topNode()\n",
    "    while nd:\n",
    "        Mlist.push(nd._element)\n",
    "        nd= nd._next\n",
    "    return Mlist"
   ]
  },
  {
   "cell_type": "code",
   "execution_count": 5,
   "id": "ceramic-judges",
   "metadata": {},
   "outputs": [
    {
     "name": "stdout",
     "output_type": "stream",
     "text": [
      "L : ( 7 )-> ( 4 )-> None\n",
      "M : ( 3 )-> ( 0 )-> None\n",
      "after concatenate, ( 7 )-> ( 4 )-> ( 3 )-> ( 0 )-> None\n"
     ]
    }
   ],
   "source": [
    "L = LinkedStack()\n",
    "L.push(\"4\")\n",
    "L.push(\"7\")\n",
    "M = LinkedStack()\n",
    "M.push(\"0\")\n",
    "M.push(\"3\")\n",
    "print('L :',L)\n",
    "print('M :',M)\n",
    "print(f\"after concatenate, {concatenate(L.topNode(), M.topNode())}\")"
   ]
  },
  {
   "cell_type": "code",
   "execution_count": null,
   "id": "ambient-birth",
   "metadata": {},
   "outputs": [],
   "source": []
  }
 ],
 "metadata": {
  "kernelspec": {
   "display_name": "Python 3",
   "language": "python",
   "name": "python3"
  },
  "language_info": {
   "codemirror_mode": {
    "name": "ipython",
    "version": 3
   },
   "file_extension": ".py",
   "mimetype": "text/x-python",
   "name": "python",
   "nbconvert_exporter": "python",
   "pygments_lexer": "ipython3",
   "version": "3.8.5"
  }
 },
 "nbformat": 4,
 "nbformat_minor": 5
}
