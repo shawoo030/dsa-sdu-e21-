{
 "cells": [
  {
   "cell_type": "markdown",
   "id": "impossible-breakdown",
   "metadata": {},
   "source": [
    "**Ex.1**\n",
    "\n",
    "Consider the following variant of the ``_find_index`` method in the context of the ``SortedTableMap`` class:"
   ]
  },
  {
   "cell_type": "code",
   "execution_count": 1,
   "id": "legislative-validation",
   "metadata": {},
   "outputs": [],
   "source": [
    "def _find_index(self, k, low, high):\n",
    "    if high < low:\n",
    "        return high + 1\n",
    "    else:\n",
    "        mid = (low + high) // 2\n",
    "        if self._table[mid]._key < k:\n",
    "            return self._find_index(k, mid + 1, high)\n",
    "        else:\n",
    "            return self._find_index(k, low, mid - 1)"
   ]
  },
  {
   "cell_type": "markdown",
   "id": "adaptive-commons",
   "metadata": {},
   "source": [
    "Does this always produce the same result as the original version? Justify your answer."
   ]
  },
  {
   "cell_type": "markdown",
   "id": "entire-tribune",
   "metadata": {},
   "source": [
    "**Answer: No** "
   ]
  },
  {
   "cell_type": "markdown",
   "id": "aquatic-portfolio",
   "metadata": {},
   "source": [
    "the original is below"
   ]
  },
  {
   "cell_type": "code",
   "execution_count": 4,
   "id": "satisfied-table",
   "metadata": {},
   "outputs": [],
   "source": [
    "def _find_index(self, k, low, high):\n",
    "    if high < low:\n",
    "        return high + 1 # no element qualifies\n",
    "    else:\n",
    "        mid = (low + high) // 2\n",
    "        if k == self._table[mid]._key:\n",
    "            return mid # found exact match\n",
    "        elif k < self._table[mid]._key:\n",
    "            return self._find_index(k, low, mid - 1) # Note: may return mid\n",
    "        else:\n",
    "            return self._find_index(k, mid + 1, high) # answer is right of mid"
   ]
  },
  {
   "cell_type": "markdown",
   "id": "returning-joint",
   "metadata": {},
   "source": [
    "in the original, there are 2 conditions\n",
    "1) if ( **==** ) : return **mid**\n",
    "\n",
    "2) elif ( k < ) : return self._find_index(k, low, mid - 1)\n",
    "\n",
    "3) else ( k > ) : return self._find_index(k, mid + 1 , high)\n",
    "\n",
    "---\n",
    "\n",
    "but in case of the variant, there are only one condition.\n",
    "1) if ( k > ) : return self._find_index(k, mid + 1 , high)\n",
    "\n",
    "2) else ( k < or  **==** ) : return **self._find_index(k, low, mid - 1)**\n",
    "\n",
    "---\n",
    "\n",
    "so the difference between two function is in the case of \n",
    "**k == self._table[mid]._key**, so that the variant version might cause endless loop.\n"
   ]
  },
  {
   "cell_type": "code",
   "execution_count": null,
   "id": "intended-scratch",
   "metadata": {},
   "outputs": [],
   "source": []
  }
 ],
 "metadata": {
  "kernelspec": {
   "display_name": "Python 3",
   "language": "python",
   "name": "python3"
  },
  "language_info": {
   "codemirror_mode": {
    "name": "ipython",
    "version": 3
   },
   "file_extension": ".py",
   "mimetype": "text/x-python",
   "name": "python",
   "nbconvert_exporter": "python",
   "pygments_lexer": "ipython3",
   "version": "3.8.5"
  }
 },
 "nbformat": 4,
 "nbformat_minor": 5
}
