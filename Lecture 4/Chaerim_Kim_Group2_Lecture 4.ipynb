{
 "cells": [
  {
   "cell_type": "markdown",
   "id": "negative-membership",
   "metadata": {},
   "source": [
    "**Ex1.**\n",
    "\n",
    "Implement a pop method for the DynamicArray class, given in Code Fragment 5.3, that removes the last element of the array, and that shrinks the capacity, *N*, of the array by half any time the number of elements in the\n",
    "array goes below *N/4*."
   ]
  },
  {
   "cell_type": "code",
   "execution_count": 291,
   "id": "secondary-record",
   "metadata": {},
   "outputs": [],
   "source": [
    "import ctypes # provides low-level arrays\n",
    "\n",
    "class DynamicArray:\n",
    "    \"\"\"A dynamic array class akin to a simplified Python list.\"\"\"\n",
    "\n",
    "    def __init__(self):\n",
    "        \"\"\"Create an empty array.\"\"\"\n",
    "        self._n = 0 # count actual elements\n",
    "        self._capacity = 1 # default array capacity\n",
    "        self._A = self._make_array(self._capacity) # low-level array\n",
    "        self._quarterOfN = self._capacity/4\n",
    "        self._halfOfN = self._capacity/2\n",
    "        \n",
    "    def len (self):\n",
    "        \"\"\"Return number of elements stored in the array.\"\"\"\n",
    "        return self._n\n",
    "\n",
    "    def __getitem__(self, k):\n",
    "        \"\"\"Return element at index k.\"\"\"\n",
    "        if not 0 <= k < self._n:\n",
    "            raise IndexError('invalid index')\n",
    "        return self._A[k] # retrieve from array\n",
    "\n",
    "    def append(self, obj):\n",
    "        \"\"\"Add object to end of the array.\"\"\"\n",
    "        if self._n == self._capacity: # not enough room\n",
    "            self._resize(2 * self._capacity) # so double capacity\n",
    "        self._A[self._n] = obj\n",
    "        self._n += 1\n",
    "\n",
    "    def _resize(self, c): # nonpublic utitity\n",
    "        \"\"\"Resize internal array to capacity c.\"\"\"\n",
    "        B = self._make_array(c) # new (bigger) array\n",
    "        for k in range(self._n): # for each existing value\n",
    "            B[k] = self._A[k]\n",
    "        self._A = B # use the bigger array\n",
    "        self._capacity = c\n",
    "\n",
    "    def _make_array(self, c): # nonpublic utitity\n",
    "        \"\"\"Return new array with capacity c.\"\"\"\n",
    "        return (c * ctypes.py_object)() # see ctypes documentation\n",
    "    \n",
    "    \n",
    "    ### Enter my code ####\n",
    "    \n",
    "    def pop(self) :\n",
    "        \"\"\"remove object to end of the array.\"\"\"\n",
    "        \n",
    "        self._quarterOfN = self._capacity/4\n",
    "        self._halfOfN = self._capacity/2\n",
    "        \n",
    "        if self._n >= self._quarterOfN:\n",
    "            self._A[self._n-1] = None\n",
    "            self._n -= 1\n",
    "            \n",
    "        else:\n",
    "            print(f'‼️the number of elements({self._n}) goes below N/4({self._quarterOfN})! Shrinks the capacity‼️')\n",
    "            self._capacity = self._halfOfN\n",
    "            self._A[self._n-1] = None\n",
    "            self._n -= 1\n",
    "        "
   ]
  },
  {
   "cell_type": "code",
   "execution_count": 292,
   "id": "adaptive-operation",
   "metadata": {},
   "outputs": [
    {
     "data": {
      "text/plain": [
       "1"
      ]
     },
     "execution_count": 292,
     "metadata": {},
     "output_type": "execute_result"
    }
   ],
   "source": [
    "ar1 = DynamicArray()\n",
    "ar1._capacity"
   ]
  },
  {
   "cell_type": "code",
   "execution_count": 293,
   "id": "hungry-brooks",
   "metadata": {},
   "outputs": [
    {
     "name": "stdout",
     "output_type": "stream",
     "text": [
      "9\n",
      "16\n"
     ]
    }
   ],
   "source": [
    "for i in range(9):\n",
    "    ar1.append(i)\n",
    "\n",
    "print(ar1.len())\n",
    "print(ar1._capacity)"
   ]
  },
  {
   "cell_type": "code",
   "execution_count": 294,
   "id": "timely-maryland",
   "metadata": {},
   "outputs": [
    {
     "name": "stdout",
     "output_type": "stream",
     "text": [
      "0\n",
      "1\n",
      "2\n",
      "3\n",
      "4\n",
      "5\n",
      "6\n",
      "7\n",
      "8\n"
     ]
    }
   ],
   "source": [
    "for i in range(ar1.len()):    \n",
    "    print(ar1.__getitem__(i))"
   ]
  },
  {
   "cell_type": "code",
   "execution_count": 295,
   "id": "coordinated-tower",
   "metadata": {},
   "outputs": [
    {
     "name": "stdout",
     "output_type": "stream",
     "text": [
      "0\n",
      "1\n",
      "2\n",
      "3\n",
      "4\n",
      "5\n",
      "6\n",
      "7\n",
      "element number: 8\n",
      "N/4: 4.0\n",
      "capacity(N): 16 \n",
      "\n",
      "0\n",
      "1\n",
      "2\n",
      "3\n",
      "4\n",
      "5\n",
      "6\n",
      "element number: 7\n",
      "N/4: 4.0\n",
      "capacity(N): 16 \n",
      "\n",
      "0\n",
      "1\n",
      "2\n",
      "3\n",
      "4\n",
      "5\n",
      "element number: 6\n",
      "N/4: 4.0\n",
      "capacity(N): 16 \n",
      "\n",
      "0\n",
      "1\n",
      "2\n",
      "3\n",
      "4\n",
      "element number: 5\n",
      "N/4: 4.0\n",
      "capacity(N): 16 \n",
      "\n",
      "0\n",
      "1\n",
      "2\n",
      "3\n",
      "element number: 4\n",
      "N/4: 4.0\n",
      "capacity(N): 16 \n",
      "\n",
      "0\n",
      "1\n",
      "2\n",
      "element number: 3\n",
      "N/4: 4.0\n",
      "capacity(N): 16 \n",
      "\n",
      "‼️the number of elements(3) goes below N/4(4.0)! Shrinks the capacity‼️\n",
      "0\n",
      "1\n",
      "element number: 2\n",
      "N/4: 4.0\n",
      "capacity(N): 8.0 \n",
      "\n",
      "0\n",
      "element number: 1\n",
      "N/4: 2.0\n",
      "capacity(N): 8.0 \n",
      "\n",
      "‼️the number of elements(1) goes below N/4(2.0)! Shrinks the capacity‼️\n",
      "element number: 0\n",
      "N/4: 2.0\n",
      "capacity(N): 4.0 \n",
      "\n"
     ]
    }
   ],
   "source": [
    "for p in range(ar1.len()):\n",
    "    ar1.pop()\n",
    "    \n",
    "    for i in range(ar1.len()):\n",
    "        print(ar1.__getitem__(i))\n",
    "    \n",
    "    \n",
    "    print('element number:',ar1._n)\n",
    "    print('N/4:',ar1._quarterOfN)\n",
    "    print('capacity(N):',ar1._capacity,'\\n')"
   ]
  }
 ],
 "metadata": {
  "kernelspec": {
   "display_name": "Python 3",
   "language": "python",
   "name": "python3"
  },
  "language_info": {
   "codemirror_mode": {
    "name": "ipython",
    "version": 3
   },
   "file_extension": ".py",
   "mimetype": "text/x-python",
   "name": "python",
   "nbconvert_exporter": "python",
   "pygments_lexer": "ipython3",
   "version": "3.8.5"
  }
 },
 "nbformat": 4,
 "nbformat_minor": 5
}
