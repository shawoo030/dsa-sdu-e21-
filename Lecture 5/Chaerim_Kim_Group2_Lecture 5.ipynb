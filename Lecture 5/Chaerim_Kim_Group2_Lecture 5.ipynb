{
 "cells": [
  {
   "cell_type": "markdown",
   "id": "cathedral-tonight",
   "metadata": {},
   "source": [
    "**Ex1.** \n",
    "\n",
    "Implement a function that reverses a list of elements by pushing them onto a stack in one order, and writing them back to the list in reversed order."
   ]
  },
  {
   "cell_type": "code",
   "execution_count": 1,
   "id": "premier-fairy",
   "metadata": {},
   "outputs": [],
   "source": [
    "def reverse(L):\n",
    "    \"\"\"reverse a list of elements \n",
    "        L: input list\n",
    "    \"\"\"\n",
    "    \n",
    "    if len(L) == 0:\n",
    "        raise ValueError('list is empty')\n",
    "    \n",
    "    rev_L = []\n",
    "    for i in reversed(range(len(L))):\n",
    "        e = L[i]\n",
    "        rev_L.append(e)\n",
    "    \n",
    "    return rev_L\n",
    "    "
   ]
  },
  {
   "cell_type": "code",
   "execution_count": 2,
   "id": "greater-quality",
   "metadata": {},
   "outputs": [
    {
     "data": {
      "text/plain": [
       "[4, 3, 2, 1]"
      ]
     },
     "execution_count": 2,
     "metadata": {},
     "output_type": "execute_result"
    }
   ],
   "source": [
    "L = [1,2,3,4]\n",
    "reverse(L)"
   ]
  },
  {
   "cell_type": "markdown",
   "id": "likely-certificate",
   "metadata": {},
   "source": [
    "이건 Stack을 사용한게 아님... 시험에서는 이렇게 하면 안됨"
   ]
  },
  {
   "cell_type": "code",
   "execution_count": 1,
   "id": "offshore-affairs",
   "metadata": {},
   "outputs": [],
   "source": [
    "' stack 의 put과 pop을 사용해야 함'\n",
    "\n",
    "class ArrayStack:\n",
    "    \"\"\"LIFO Stack implementation using a Python list as underlying storage.\"\"\"\n",
    "\n",
    "    def __init__(self):\n",
    "        \"\"\"Create an empty stack.\"\"\"\n",
    "        self._data = [] # nonpublic list instance\n",
    "\n",
    "    def __len__(self):\n",
    "        \"\"\"Return the number of elements in the stack.\"\"\"\n",
    "        return len(self._data)\n",
    "\n",
    "    def is_empty(self):\n",
    "        \"\"\"Return True if the stack is empty.\"\"\"\n",
    "        return len(self._data) == 0\n",
    "\n",
    "    def push(self, e):\n",
    "        \"\"\"Add element e to the top of the stack.\"\"\"\n",
    "        self._data.append(e) # new item stored at end of list\n",
    "\n",
    "    def top(self):\n",
    "        \"\"\"Return (but do not remove) the element at the top of the stack.\n",
    "\n",
    "           Raise Empty exception if the stack is empty.\n",
    "        \"\"\"\n",
    "        if self.is_empty():\n",
    "            raise Empty('Stack is empty')\n",
    "        return self._data[-1] # the last item in the list\n",
    "\n",
    "    def pop(self):\n",
    "        \"\"\"Remove and return the element from the top of the stack (i.e., LIFO).\n",
    "\n",
    "           Raise Empty exception if the stack is empty.\n",
    "        \"\"\"\n",
    "        if self.is_empty():\n",
    "            raise Empty('Stack is empty')\n",
    "        return self._data.pop() # remove last item from list"
   ]
  },
  {
   "cell_type": "code",
   "execution_count": null,
   "id": "sustained-squad",
   "metadata": {},
   "outputs": [],
   "source": []
  },
  {
   "cell_type": "markdown",
   "id": "charged-nitrogen",
   "metadata": {},
   "source": [
    "**Ex2.** \n",
    "\n",
    "Implement a function called ``transfer(S, T)`` that transfers all elements from stack *S* onto stack *T*, so that the element that starts at the top of *S* is the first to be inserted onto *T*, and the element at the bottom of *S* ends up at the top of *T*. \n",
    "\n",
    "Then, use this function along with the ``ArrayStack`` class, which has already been defined in the lecture to test the implementation of your ``transfer(S, T)`` function by printing out *S* and *T* after applying the ``transfer(S, T)`` function."
   ]
  },
  {
   "cell_type": "code",
   "execution_count": 3,
   "id": "complete-search",
   "metadata": {},
   "outputs": [],
   "source": [
    "class ArrayStack:\n",
    "    \"\"\"LIFO Stack implementation using a Python list as underlying storage.\"\"\"\n",
    "\n",
    "    def __init__(self):\n",
    "        \"\"\"Create an empty stack.\"\"\"\n",
    "        self._data = [] # nonpublic list instance\n",
    "\n",
    "    def __len__(self):\n",
    "        \"\"\"Return the number of elements in the stack.\"\"\"\n",
    "        return len(self._data)\n",
    "\n",
    "    def is_empty(self):\n",
    "        \"\"\"Return True if the stack is empty.\"\"\"\n",
    "        return len(self._data) == 0\n",
    "\n",
    "    def push(self, e):\n",
    "        \"\"\"Add element e to the top of the stack.\"\"\"\n",
    "        self._data.append(e) # new item stored at end of list\n",
    "\n",
    "    def top(self):\n",
    "        \"\"\"Return (but do not remove) the element at the top of the stack.\n",
    "\n",
    "           Raise Empty exception if the stack is empty.\n",
    "        \"\"\"\n",
    "        if self.is_empty():\n",
    "            raise Empty('Stack is empty')\n",
    "        return self._data[-1] # the last item in the list\n",
    "\n",
    "    def pop(self):\n",
    "        \"\"\"Remove and return the element from the top of the stack (i.e., LIFO).\n",
    "\n",
    "           Raise Empty exception if the stack is empty.\n",
    "        \"\"\"\n",
    "        if self.is_empty():\n",
    "            raise Empty('Stack is empty')\n",
    "        return self._data.pop() # remove last item from list\n",
    " \n",
    "\n",
    "'''머신러닝 프로젝트 교수님께 메일 드리기'''\n",
    "    \n",
    "S = ArrayStack()\n",
    "T = ArrayStack()\n",
    "    \n",
    "def transfer(S,T):\n",
    "    \n",
    "    if S.is_empty():\n",
    "        raise ValueError('the stack is empty')\n",
    "    \n",
    "    while S.is_empty() == False:\n",
    "        insert = S.top()\n",
    "        T.push(insert)\n",
    "        S.pop()\n",
    "        \n",
    "    return S._data, T._data\n",
    "    "
   ]
  },
  {
   "cell_type": "code",
   "execution_count": 4,
   "id": "authentic-repository",
   "metadata": {},
   "outputs": [
    {
     "data": {
      "text/plain": [
       "[4, 3, 2, 1]"
      ]
     },
     "execution_count": 4,
     "metadata": {},
     "output_type": "execute_result"
    }
   ],
   "source": [
    "for i in range(1,5):\n",
    "    S.push(i)\n",
    "transfer(S,T)\n",
    "T._data"
   ]
  },
  {
   "cell_type": "code",
   "execution_count": 5,
   "id": "neural-packet",
   "metadata": {},
   "outputs": [
    {
     "data": {
      "text/plain": [
       "[]"
      ]
     },
     "execution_count": 5,
     "metadata": {},
     "output_type": "execute_result"
    }
   ],
   "source": [
    "S._data"
   ]
  },
  {
   "cell_type": "code",
   "execution_count": 6,
   "id": "public-greene",
   "metadata": {},
   "outputs": [
    {
     "ename": "ValueError",
     "evalue": "the stack is empty",
     "output_type": "error",
     "traceback": [
      "\u001b[0;31m---------------------------------------------------------------------------\u001b[0m",
      "\u001b[0;31mValueError\u001b[0m                                Traceback (most recent call last)",
      "\u001b[0;32m<ipython-input-6-54eef9390358>\u001b[0m in \u001b[0;36m<module>\u001b[0;34m\u001b[0m\n\u001b[0;32m----> 1\u001b[0;31m \u001b[0mtransfer\u001b[0m\u001b[0;34m(\u001b[0m\u001b[0mS\u001b[0m\u001b[0;34m,\u001b[0m\u001b[0mT\u001b[0m\u001b[0;34m)\u001b[0m\u001b[0;34m\u001b[0m\u001b[0;34m\u001b[0m\u001b[0m\n\u001b[0m",
      "\u001b[0;32m<ipython-input-3-902f18822161>\u001b[0m in \u001b[0;36mtransfer\u001b[0;34m(S, T)\u001b[0m\n\u001b[1;32m     45\u001b[0m \u001b[0;34m\u001b[0m\u001b[0m\n\u001b[1;32m     46\u001b[0m     \u001b[0;32mif\u001b[0m \u001b[0mS\u001b[0m\u001b[0;34m.\u001b[0m\u001b[0mis_empty\u001b[0m\u001b[0;34m(\u001b[0m\u001b[0;34m)\u001b[0m\u001b[0;34m:\u001b[0m\u001b[0;34m\u001b[0m\u001b[0;34m\u001b[0m\u001b[0m\n\u001b[0;32m---> 47\u001b[0;31m         \u001b[0;32mraise\u001b[0m \u001b[0mValueError\u001b[0m\u001b[0;34m(\u001b[0m\u001b[0;34m'the stack is empty'\u001b[0m\u001b[0;34m)\u001b[0m\u001b[0;34m\u001b[0m\u001b[0;34m\u001b[0m\u001b[0m\n\u001b[0m\u001b[1;32m     48\u001b[0m \u001b[0;34m\u001b[0m\u001b[0m\n\u001b[1;32m     49\u001b[0m     \u001b[0;32mwhile\u001b[0m \u001b[0mS\u001b[0m\u001b[0;34m.\u001b[0m\u001b[0mis_empty\u001b[0m\u001b[0;34m(\u001b[0m\u001b[0;34m)\u001b[0m \u001b[0;34m==\u001b[0m \u001b[0;32mFalse\u001b[0m\u001b[0;34m:\u001b[0m\u001b[0;34m\u001b[0m\u001b[0;34m\u001b[0m\u001b[0m\n",
      "\u001b[0;31mValueError\u001b[0m: the stack is empty"
     ]
    }
   ],
   "source": [
    "transfer(S,T)"
   ]
  },
  {
   "cell_type": "markdown",
   "id": "aging-arcade",
   "metadata": {},
   "source": [
    "list comprehension 기억하기\n",
    "[S.push(self.pop()) for _ in range(stck_len)]"
   ]
  },
  {
   "cell_type": "code",
   "execution_count": null,
   "id": "ceramic-suicide",
   "metadata": {},
   "outputs": [],
   "source": []
  }
 ],
 "metadata": {
  "kernelspec": {
   "display_name": "Python 3",
   "language": "python",
   "name": "python3"
  },
  "language_info": {
   "codemirror_mode": {
    "name": "ipython",
    "version": 3
   },
   "file_extension": ".py",
   "mimetype": "text/x-python",
   "name": "python",
   "nbconvert_exporter": "python",
   "pygments_lexer": "ipython3",
   "version": "3.8.5"
  }
 },
 "nbformat": 4,
 "nbformat_minor": 5
}
